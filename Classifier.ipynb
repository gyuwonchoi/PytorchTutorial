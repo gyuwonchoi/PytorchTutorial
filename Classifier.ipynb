{
  "nbformat": 4,
  "nbformat_minor": 0,
  "metadata": {
    "colab": {
      "name": "Classifier.ipynb",
      "provenance": [],
      "collapsed_sections": [],
      "authorship_tag": "ABX9TyNujXArmY9Bd36BMdE4sSaw",
      "include_colab_link": true
    },
    "kernelspec": {
      "name": "python3",
      "display_name": "Python 3"
    },
    "language_info": {
      "name": "python"
    },
    "accelerator": "GPU",
    "gpuClass": "standard",
    "widgets": {
      "application/vnd.jupyter.widget-state+json": {
        "032f29c011fa4e939b428087ea1f0cf1": {
          "model_module": "@jupyter-widgets/controls",
          "model_name": "HBoxModel",
          "model_module_version": "1.5.0",
          "state": {
            "_dom_classes": [],
            "_model_module": "@jupyter-widgets/controls",
            "_model_module_version": "1.5.0",
            "_model_name": "HBoxModel",
            "_view_count": null,
            "_view_module": "@jupyter-widgets/controls",
            "_view_module_version": "1.5.0",
            "_view_name": "HBoxView",
            "box_style": "",
            "children": [
              "IPY_MODEL_aeb15b18971045269e204024f53e55ec",
              "IPY_MODEL_13f370399dbd418d85228364d99d9f2f",
              "IPY_MODEL_82a8df66eec8420e82430130726ad94d"
            ],
            "layout": "IPY_MODEL_c2fb3f9bd52f4f66981b6e9b1a2318aa"
          }
        },
        "aeb15b18971045269e204024f53e55ec": {
          "model_module": "@jupyter-widgets/controls",
          "model_name": "HTMLModel",
          "model_module_version": "1.5.0",
          "state": {
            "_dom_classes": [],
            "_model_module": "@jupyter-widgets/controls",
            "_model_module_version": "1.5.0",
            "_model_name": "HTMLModel",
            "_view_count": null,
            "_view_module": "@jupyter-widgets/controls",
            "_view_module_version": "1.5.0",
            "_view_name": "HTMLView",
            "description": "",
            "description_tooltip": null,
            "layout": "IPY_MODEL_2de98ffdbd8b4110ad963faed0617218",
            "placeholder": "​",
            "style": "IPY_MODEL_a99655e958b54b3881d602630cfb5031",
            "value": "100%"
          }
        },
        "13f370399dbd418d85228364d99d9f2f": {
          "model_module": "@jupyter-widgets/controls",
          "model_name": "FloatProgressModel",
          "model_module_version": "1.5.0",
          "state": {
            "_dom_classes": [],
            "_model_module": "@jupyter-widgets/controls",
            "_model_module_version": "1.5.0",
            "_model_name": "FloatProgressModel",
            "_view_count": null,
            "_view_module": "@jupyter-widgets/controls",
            "_view_module_version": "1.5.0",
            "_view_name": "ProgressView",
            "bar_style": "success",
            "description": "",
            "description_tooltip": null,
            "layout": "IPY_MODEL_147d2b4bca494bbe81e0d4d3941ea224",
            "max": 170498071,
            "min": 0,
            "orientation": "horizontal",
            "style": "IPY_MODEL_2aba52ed185a4ecd881882f188579a89",
            "value": 170498071
          }
        },
        "82a8df66eec8420e82430130726ad94d": {
          "model_module": "@jupyter-widgets/controls",
          "model_name": "HTMLModel",
          "model_module_version": "1.5.0",
          "state": {
            "_dom_classes": [],
            "_model_module": "@jupyter-widgets/controls",
            "_model_module_version": "1.5.0",
            "_model_name": "HTMLModel",
            "_view_count": null,
            "_view_module": "@jupyter-widgets/controls",
            "_view_module_version": "1.5.0",
            "_view_name": "HTMLView",
            "description": "",
            "description_tooltip": null,
            "layout": "IPY_MODEL_c8c12a23e1aa4b7d8fd821b0cba52d85",
            "placeholder": "​",
            "style": "IPY_MODEL_d2a7ea2351a04452857cfd7c3f1fbf5d",
            "value": " 170498071/170498071 [00:03&lt;00:00, 52682838.48it/s]"
          }
        },
        "c2fb3f9bd52f4f66981b6e9b1a2318aa": {
          "model_module": "@jupyter-widgets/base",
          "model_name": "LayoutModel",
          "model_module_version": "1.2.0",
          "state": {
            "_model_module": "@jupyter-widgets/base",
            "_model_module_version": "1.2.0",
            "_model_name": "LayoutModel",
            "_view_count": null,
            "_view_module": "@jupyter-widgets/base",
            "_view_module_version": "1.2.0",
            "_view_name": "LayoutView",
            "align_content": null,
            "align_items": null,
            "align_self": null,
            "border": null,
            "bottom": null,
            "display": null,
            "flex": null,
            "flex_flow": null,
            "grid_area": null,
            "grid_auto_columns": null,
            "grid_auto_flow": null,
            "grid_auto_rows": null,
            "grid_column": null,
            "grid_gap": null,
            "grid_row": null,
            "grid_template_areas": null,
            "grid_template_columns": null,
            "grid_template_rows": null,
            "height": null,
            "justify_content": null,
            "justify_items": null,
            "left": null,
            "margin": null,
            "max_height": null,
            "max_width": null,
            "min_height": null,
            "min_width": null,
            "object_fit": null,
            "object_position": null,
            "order": null,
            "overflow": null,
            "overflow_x": null,
            "overflow_y": null,
            "padding": null,
            "right": null,
            "top": null,
            "visibility": null,
            "width": null
          }
        },
        "2de98ffdbd8b4110ad963faed0617218": {
          "model_module": "@jupyter-widgets/base",
          "model_name": "LayoutModel",
          "model_module_version": "1.2.0",
          "state": {
            "_model_module": "@jupyter-widgets/base",
            "_model_module_version": "1.2.0",
            "_model_name": "LayoutModel",
            "_view_count": null,
            "_view_module": "@jupyter-widgets/base",
            "_view_module_version": "1.2.0",
            "_view_name": "LayoutView",
            "align_content": null,
            "align_items": null,
            "align_self": null,
            "border": null,
            "bottom": null,
            "display": null,
            "flex": null,
            "flex_flow": null,
            "grid_area": null,
            "grid_auto_columns": null,
            "grid_auto_flow": null,
            "grid_auto_rows": null,
            "grid_column": null,
            "grid_gap": null,
            "grid_row": null,
            "grid_template_areas": null,
            "grid_template_columns": null,
            "grid_template_rows": null,
            "height": null,
            "justify_content": null,
            "justify_items": null,
            "left": null,
            "margin": null,
            "max_height": null,
            "max_width": null,
            "min_height": null,
            "min_width": null,
            "object_fit": null,
            "object_position": null,
            "order": null,
            "overflow": null,
            "overflow_x": null,
            "overflow_y": null,
            "padding": null,
            "right": null,
            "top": null,
            "visibility": null,
            "width": null
          }
        },
        "a99655e958b54b3881d602630cfb5031": {
          "model_module": "@jupyter-widgets/controls",
          "model_name": "DescriptionStyleModel",
          "model_module_version": "1.5.0",
          "state": {
            "_model_module": "@jupyter-widgets/controls",
            "_model_module_version": "1.5.0",
            "_model_name": "DescriptionStyleModel",
            "_view_count": null,
            "_view_module": "@jupyter-widgets/base",
            "_view_module_version": "1.2.0",
            "_view_name": "StyleView",
            "description_width": ""
          }
        },
        "147d2b4bca494bbe81e0d4d3941ea224": {
          "model_module": "@jupyter-widgets/base",
          "model_name": "LayoutModel",
          "model_module_version": "1.2.0",
          "state": {
            "_model_module": "@jupyter-widgets/base",
            "_model_module_version": "1.2.0",
            "_model_name": "LayoutModel",
            "_view_count": null,
            "_view_module": "@jupyter-widgets/base",
            "_view_module_version": "1.2.0",
            "_view_name": "LayoutView",
            "align_content": null,
            "align_items": null,
            "align_self": null,
            "border": null,
            "bottom": null,
            "display": null,
            "flex": null,
            "flex_flow": null,
            "grid_area": null,
            "grid_auto_columns": null,
            "grid_auto_flow": null,
            "grid_auto_rows": null,
            "grid_column": null,
            "grid_gap": null,
            "grid_row": null,
            "grid_template_areas": null,
            "grid_template_columns": null,
            "grid_template_rows": null,
            "height": null,
            "justify_content": null,
            "justify_items": null,
            "left": null,
            "margin": null,
            "max_height": null,
            "max_width": null,
            "min_height": null,
            "min_width": null,
            "object_fit": null,
            "object_position": null,
            "order": null,
            "overflow": null,
            "overflow_x": null,
            "overflow_y": null,
            "padding": null,
            "right": null,
            "top": null,
            "visibility": null,
            "width": null
          }
        },
        "2aba52ed185a4ecd881882f188579a89": {
          "model_module": "@jupyter-widgets/controls",
          "model_name": "ProgressStyleModel",
          "model_module_version": "1.5.0",
          "state": {
            "_model_module": "@jupyter-widgets/controls",
            "_model_module_version": "1.5.0",
            "_model_name": "ProgressStyleModel",
            "_view_count": null,
            "_view_module": "@jupyter-widgets/base",
            "_view_module_version": "1.2.0",
            "_view_name": "StyleView",
            "bar_color": null,
            "description_width": ""
          }
        },
        "c8c12a23e1aa4b7d8fd821b0cba52d85": {
          "model_module": "@jupyter-widgets/base",
          "model_name": "LayoutModel",
          "model_module_version": "1.2.0",
          "state": {
            "_model_module": "@jupyter-widgets/base",
            "_model_module_version": "1.2.0",
            "_model_name": "LayoutModel",
            "_view_count": null,
            "_view_module": "@jupyter-widgets/base",
            "_view_module_version": "1.2.0",
            "_view_name": "LayoutView",
            "align_content": null,
            "align_items": null,
            "align_self": null,
            "border": null,
            "bottom": null,
            "display": null,
            "flex": null,
            "flex_flow": null,
            "grid_area": null,
            "grid_auto_columns": null,
            "grid_auto_flow": null,
            "grid_auto_rows": null,
            "grid_column": null,
            "grid_gap": null,
            "grid_row": null,
            "grid_template_areas": null,
            "grid_template_columns": null,
            "grid_template_rows": null,
            "height": null,
            "justify_content": null,
            "justify_items": null,
            "left": null,
            "margin": null,
            "max_height": null,
            "max_width": null,
            "min_height": null,
            "min_width": null,
            "object_fit": null,
            "object_position": null,
            "order": null,
            "overflow": null,
            "overflow_x": null,
            "overflow_y": null,
            "padding": null,
            "right": null,
            "top": null,
            "visibility": null,
            "width": null
          }
        },
        "d2a7ea2351a04452857cfd7c3f1fbf5d": {
          "model_module": "@jupyter-widgets/controls",
          "model_name": "DescriptionStyleModel",
          "model_module_version": "1.5.0",
          "state": {
            "_model_module": "@jupyter-widgets/controls",
            "_model_module_version": "1.5.0",
            "_model_name": "DescriptionStyleModel",
            "_view_count": null,
            "_view_module": "@jupyter-widgets/base",
            "_view_module_version": "1.2.0",
            "_view_name": "StyleView",
            "description_width": ""
          }
        }
      }
    }
  },
  "cells": [
    {
      "cell_type": "markdown",
      "metadata": {
        "id": "view-in-github",
        "colab_type": "text"
      },
      "source": [
        "<a href=\"https://colab.research.google.com/github/gyuwonchoi/PytorchTutorial/blob/main/Classifier.ipynb\" target=\"_parent\"><img src=\"https://colab.research.google.com/assets/colab-badge.svg\" alt=\"Open In Colab\"/></a>"
      ]
    },
    {
      "cell_type": "code",
      "execution_count": null,
      "metadata": {
        "id": "7Ogd3Ru8St0I"
      },
      "outputs": [],
      "source": [
        "# img: load in NumPy -> torch.*Tensor\n",
        "# img-lib: Pillow, OpenCV\n",
        "# img-module: torchvision\n",
        "    ## data loader, torchvision.datasets, torch.utils.data.DataLoader"
      ]
    },
    {
      "cell_type": "markdown",
      "source": [
        "1. torchvision으로 set 불러오고, 정규화\n",
        "2. CNN의 정의\n",
        "3. 손실 함수의 정의\n",
        "4. 학습용 데이터로 학습\n",
        "5. 테스트 데이터로 테스트"
      ],
      "metadata": {
        "id": "LnUfivaQV8jn"
      }
    },
    {
      "cell_type": "code",
      "source": [
        "import torch\n",
        "import torchvision\n",
        "import torchvision.transforms as transforms\n",
        "\n",
        "# output of torchvision dataset: [0,1] ranged PILImage -> need to normalize [-1, 1]\n",
        "\n",
        "transform = transforms.Compose(\n",
        "    [transforms.ToTensor(),\n",
        "     transforms.Normalize((0.5, 0.5, 0.5),  # R G B mean\n",
        "                          (0.5, 0.5, 0.5))] # R G B std\n",
        ")\n",
        "\n",
        "batch_size=4\n",
        "\n",
        "trainset= torchvision.datasets.CIFAR10(\n",
        "    root='./data',\n",
        "    train=True,\n",
        "    download=True,\n",
        "    transform=transform\n",
        ")\n",
        "\n",
        "trainloader= torch.utils.data.DataLoader(trainset, batch_size=batch_size, shuffle=True, num_workers=2)\n",
        "\n",
        "testset= torchvision.datasets.CIFAR10(\n",
        "    root='./data',\n",
        "    train=False,\n",
        "    download=True,\n",
        "    transform=transform\n",
        ")\n",
        "\n",
        "testloader= torch.utils.data.DataLoader(testset, batch_size=batch_size, shuffle=True, num_workers=2)\n",
        "\n",
        "classes = ('plane', 'car', 'bird', 'cat',\n",
        "           'deer', 'dog', 'frog', 'horse', 'ship', 'truck')"
      ],
      "metadata": {
        "colab": {
          "base_uri": "https://localhost:8080/",
          "height": 104,
          "referenced_widgets": [
            "032f29c011fa4e939b428087ea1f0cf1",
            "aeb15b18971045269e204024f53e55ec",
            "13f370399dbd418d85228364d99d9f2f",
            "82a8df66eec8420e82430130726ad94d",
            "c2fb3f9bd52f4f66981b6e9b1a2318aa",
            "2de98ffdbd8b4110ad963faed0617218",
            "a99655e958b54b3881d602630cfb5031",
            "147d2b4bca494bbe81e0d4d3941ea224",
            "2aba52ed185a4ecd881882f188579a89",
            "c8c12a23e1aa4b7d8fd821b0cba52d85",
            "d2a7ea2351a04452857cfd7c3f1fbf5d"
          ]
        },
        "id": "4VNE2oMaWJn9",
        "outputId": "c208418f-37f3-426f-ef2b-f2ba26329784"
      },
      "execution_count": 1,
      "outputs": [
        {
          "output_type": "stream",
          "name": "stdout",
          "text": [
            "Downloading https://www.cs.toronto.edu/~kriz/cifar-10-python.tar.gz to ./data/cifar-10-python.tar.gz\n"
          ]
        },
        {
          "output_type": "display_data",
          "data": {
            "text/plain": [
              "  0%|          | 0/170498071 [00:00<?, ?it/s]"
            ],
            "application/vnd.jupyter.widget-view+json": {
              "version_major": 2,
              "version_minor": 0,
              "model_id": "032f29c011fa4e939b428087ea1f0cf1"
            }
          },
          "metadata": {}
        },
        {
          "output_type": "stream",
          "name": "stdout",
          "text": [
            "Extracting ./data/cifar-10-python.tar.gz to ./data\n",
            "Files already downloaded and verified\n"
          ]
        }
      ]
    },
    {
      "cell_type": "code",
      "source": [
        "import matplotlib.pyplot as plt\n",
        "import numpy as np\n",
        "\n",
        "# 이미지를 보여주기 위한 함수\n",
        "\n",
        "def imshow(img):\n",
        "    img = img / 2 + 0.5     # unnormalize :  mean 0.5, std 0.5\n",
        "    npimg = img.numpy()\n",
        "    plt.imshow(np.transpose(npimg, (1, 2, 0)))\n",
        "    plt.show()\n",
        "\n",
        "\n",
        "# 학습용 이미지를 무작위로 가져오기\n",
        "dataiter = iter(trainloader)\n",
        "images, labels = dataiter.next()\n",
        "\n",
        "# 이미지 보여주기\n",
        "imshow(torchvision.utils.make_grid(images))\n",
        "# 정답(label) 출력\n",
        "print(' '.join(f'{classes[labels[j]]:5s}' for j in range(batch_size)))"
      ],
      "metadata": {
        "colab": {
          "base_uri": "https://localhost:8080/",
          "height": 156
        },
        "id": "jWxGkrlLXpVY",
        "outputId": "037afd7c-a9f7-4b25-ba8e-c52941d64f76"
      },
      "execution_count": 2,
      "outputs": [
        {
          "output_type": "display_data",
          "data": {
            "text/plain": [
              "<Figure size 432x288 with 1 Axes>"
            ],
            "image/png": "[encoded data removed]"
          },
          "metadata": {
            "needs_background": "light"
          }
        },
        {
          "output_type": "stream",
          "name": "stdout",
          "text": [
            "frog  plane plane plane\n"
          ]
        }
      ]
    },
    {
      "cell_type": "code",
      "source": [
        "from os import XATTR_REPLACE\n",
        "import torch.nn as nn \n",
        "import torch.nn.functional as F\n",
        "\n",
        "class Net(nn.Module):\n",
        "  def __init__(self):\n",
        "    super().__init__()\n",
        "    self.conv1=nn.Conv2d(3,6,5) # input channel, output channel, kernel size\n",
        "    self.pool=nn.MaxPool2d(2,2)\n",
        "    self.conv2= nn.Conv2d(6,16,5)\n",
        "    self.fc1=nn.Linear(16*5*5, 120)\n",
        "    self.fc2=nn.Linear(120,84)\n",
        "    self.fc3 = nn.Linear(84,10)\n",
        "  \n",
        "  def forward(self,x):\n",
        "    x= self.pool(F.relu(self.conv1(x)))\n",
        "    x= self.pool(F.relu(self.conv2(x)))\n",
        "    x= torch.flatten(x,1)\n",
        "    x= F.relu(self.fc1(x))\n",
        "    x= F.relu(self.fc2(x))\n",
        "    x= self.fc3(x)\n",
        "    return x\n",
        "\n",
        "net=Net()\n",
        "print(net)\n"
      ],
      "metadata": {
        "colab": {
          "base_uri": "https://localhost:8080/"
        },
        "id": "MjvKOiq1dImx",
        "outputId": "094fd997-efbb-4e7a-a4a2-543ebc3d7e15"
      },
      "execution_count": 3,
      "outputs": [
        {
          "output_type": "stream",
          "name": "stdout",
          "text": [
            "Net(\n",
            "  (conv1): Conv2d(3, 6, kernel_size=(5, 5), stride=(1, 1))\n",
            "  (pool): MaxPool2d(kernel_size=2, stride=2, padding=0, dilation=1, ceil_mode=False)\n",
            "  (conv2): Conv2d(6, 16, kernel_size=(5, 5), stride=(1, 1))\n",
            "  (fc1): Linear(in_features=400, out_features=120, bias=True)\n",
            "  (fc2): Linear(in_features=120, out_features=84, bias=True)\n",
            "  (fc3): Linear(in_features=84, out_features=10, bias=True)\n",
            ")\n"
          ]
        }
      ]
    },
    {
      "cell_type": "markdown",
      "source": [
        "https://tutorials.pytorch.kr/beginner/blitz/cifar10_tutorial.html#sphx-glr-beginner-blitz-cifar10-tutorial-py"
      ],
      "metadata": {
        "id": "g_VaQVfMlhNC"
      }
    },
    {
      "cell_type": "code",
      "source": [
        "import torch.optim as optim\n",
        "\n",
        "criterion=nn.CrossEntropyLoss()  # loss func\n",
        "optimizer = optim.SGD(net.parameters(), lr=0.001, momentum=0.9) # how to optimizer from loss"
      ],
      "metadata": {
        "id": "NtMYmnsmjLIW"
      },
      "execution_count": 4,
      "outputs": []
    },
    {
      "cell_type": "code",
      "source": [
        "for epoch in range(2):\n",
        "  running_loss =0.0\n",
        "  for i, data in enumerate(trainloader,0):\n",
        "    # data set은 [input, labels]의 딕셔너리\n",
        "    inputs, labels = data\n",
        "\n",
        "    # gradient 를 일단 초기화, 매번 돌때마다 새로 업데이트 해야지\n",
        "    optimizer.zero_grad()\n",
        "\n",
        "    outputs= net(inputs) # forward propa\n",
        "\n",
        "    loss=criterion(outputs, labels)\n",
        "    loss.backward() # back propa\n",
        "    \n",
        "    optimizer.step() # gradient update\n",
        "\n",
        "    running_loss += loss.item() # loss 2000회씩 누적: 매 회당 확률로 0-1 사이니까 2000으로 나눠줌\n",
        "    if i%2000== 1999:\n",
        "      print(f'[{epoch + 1}, {i + 1:5d}] loss: {running_loss / 2000:.3f}')\n",
        "      running_loss = 0.0  # 매 epoch 마다 loss 다르므로 \n",
        "\n",
        "print(\"Finished!\")\n",
        " "
      ],
      "metadata": {
        "colab": {
          "base_uri": "https://localhost:8080/"
        },
        "id": "qPLA9nqLkgP-",
        "outputId": "a61fb1e4-3f9e-4407-d80c-2296bec62f6e"
      },
      "execution_count": 5,
      "outputs": [
        {
          "output_type": "stream",
          "name": "stdout",
          "text": [
            "[1,  2000] loss: 2.227\n",
            "[1,  4000] loss: 1.907\n",
            "[1,  6000] loss: 1.707\n",
            "[1,  8000] loss: 1.589\n",
            "[1, 10000] loss: 1.483\n",
            "[1, 12000] loss: 1.478\n",
            "[2,  2000] loss: 1.386\n",
            "[2,  4000] loss: 1.383\n",
            "[2,  6000] loss: 1.347\n",
            "[2,  8000] loss: 1.310\n",
            "[2, 10000] loss: 1.300\n",
            "[2, 12000] loss: 1.267\n",
            "Finished!\n"
          ]
        }
      ]
    },
    {
      "cell_type": "code",
      "source": [
        "PATH = './cifar_net.pth'\n",
        "torch.save(net.state_dict(),PATH)"
      ],
      "metadata": {
        "id": "qleBWTD6myOn"
      },
      "execution_count": 6,
      "outputs": []
    },
    {
      "cell_type": "code",
      "source": [
        "dataiter=iter(testloader)\n",
        "imgaes, labels = dataiter.next()\n",
        "\n",
        "imshow(torchvision.utils.make_grid(imgaes))\n",
        "print('GroundTruth: ', ' '.join(f'{classes[labels[j]]:5s}' for j in range(4)))"
      ],
      "metadata": {
        "colab": {
          "base_uri": "https://localhost:8080/",
          "height": 156
        },
        "id": "XfYeMfnEoHKt",
        "outputId": "9ac57bcc-8671-4d1e-fda9-4f65bd18cb72"
      },
      "execution_count": 7,
      "outputs": [
        {
          "output_type": "display_data",
          "data": {
            "text/plain": [
              "<Figure size 432x288 with 1 Axes>"
            ],
            "image/png": "[encoded data removed]"
          },
          "metadata": {
            "needs_background": "light"
          }
        },
        {
          "output_type": "stream",
          "name": "stdout",
          "text": [
            "GroundTruth:  dog   frog  car   bird \n"
          ]
        }
      ]
    },
    {
      "cell_type": "code",
      "source": [
        "net=Net()\n",
        "net.load_state_dict(torch.load(PATH))"
      ],
      "metadata": {
        "colab": {
          "base_uri": "https://localhost:8080/"
        },
        "id": "lm5e3uDLoejX",
        "outputId": "28e7b8f9-4a70-40d5-b90c-889523efc98b"
      },
      "execution_count": 8,
      "outputs": [
        {
          "output_type": "execute_result",
          "data": {
            "text/plain": [
              "<All keys matched successfully>"
            ]
          },
          "metadata": {},
          "execution_count": 8
        }
      ]
    },
    {
      "cell_type": "code",
      "source": [
        "outputs= net(images)"
      ],
      "metadata": {
        "id": "z8bKo0pXomtP"
      },
      "execution_count": 9,
      "outputs": []
    },
    {
      "cell_type": "code",
      "source": [
        "_, predicted = torch.max(outputs, 1)\n",
        "\n",
        "print('Predicted: ', ' '.join(f'{classes[predicted[j]]:5s}'\n",
        "                              for j in range(4)))"
      ],
      "metadata": {
        "colab": {
          "base_uri": "https://localhost:8080/"
        },
        "id": "dWgxK-aCoqOP",
        "outputId": "a83c077f-976f-4e5a-92f6-644fc4118ab8"
      },
      "execution_count": 10,
      "outputs": [
        {
          "output_type": "stream",
          "name": "stdout",
          "text": [
            "Predicted:  frog  plane plane plane\n"
          ]
        }
      ]
    },
    {
      "cell_type": "markdown",
      "source": [
        "https://tutorials.pytorch.kr/beginner/blitz/cifar10_tutorial.html#sphx-glr-beginner-blitz-cifar10-tutorial-py\n",
        "\n",
        "###5.시험용 데이터로 신경망 검사하기\n"
      ],
      "metadata": {
        "id": "zDk_A_DDowa-"
      }
    },
    {
      "cell_type": "code",
      "source": [
        "correct=0\n",
        "total=0\n",
        "\n",
        "# for the tests, we don't need to update the gradient \n",
        "with torch.no_grad():\n",
        "  for data in testloader:\n",
        "    images, labels = data\n",
        "\n",
        "    #infer\n",
        "    outputs=net(images)\n",
        "\n",
        "    _, predicted=torch.max(outputs.data, 1) # 각 배치에서 10classese에 대한 스코어 10개 중 가장 큰 값에 대하여\n",
        "                                            # (value, indx) 튜플로 리턴, 즉 여기서는 몇번째 클래스인지 봄 \n",
        "    # print(outputs.data.shape()\n",
        "\n",
        "    # 이미지 중에 맞힌 개수로 accuracy 계산\n",
        "    # print(predicted)\n",
        "    \n",
        "    print(labels)\n",
        "    total+= labels.size(0) # num of imgs per batch\n",
        "    correct+= (predicted==labels).sum().item()  # 확률 가장 높은 클래스 인덱스가 GT면 정확도 업 \n",
        "\n",
        "print(f'Accuracy of the network on the 10000 test images: {100 * correct // total} %')"
      ],
      "metadata": {
        "id": "meJQqpEXozr3",
        "colab": {
          "base_uri": "https://localhost:8080/",
          "height": 1000
        },
        "outputId": "bccc8ca4-3cfc-47b8-875e-025c019c4f44"
      },
      "execution_count": 15,
      "outputs": [
        {
          "output_type": "stream",
          "name": "stdout",
          "text": [
            "tensor([0, 1, 3, 1])\n",
            "tensor([1, 1, 7, 7])\n",
            "tensor([9, 5, 0, 1])\n",
            "tensor([6, 2, 9, 2])\n",
            "tensor([8, 0, 3, 8])\n",
            "tensor([9, 7, 9, 7])\n",
            "tensor([7, 6, 4, 4])\n",
            "tensor([0, 1, 5, 4])\n",
            "tensor([1, 6, 1, 0])\n",
            "tensor([6, 6, 1, 8])\n",
            "tensor([7, 5, 1, 4])\n",
            "tensor([0, 5, 4, 0])\n",
            "tensor([6, 1, 3, 0])\n",
            "tensor([6, 4, 1, 9])\n",
            "tensor([7, 2, 4, 4])\n",
            "tensor([8, 2, 8, 1])\n",
            "tensor([6, 8, 5, 6])\n",
            "tensor([4, 0, 0, 3])\n",
            "tensor([1, 1, 6, 4])\n",
            "tensor([5, 8, 8, 8])\n",
            "tensor([8, 2, 0, 4])\n",
            "tensor([1, 9, 1, 9])\n",
            "tensor([0, 0, 4, 5])\n",
            "tensor([9, 5, 7, 1])\n",
            "tensor([7, 0, 1, 3])\n",
            "tensor([2, 4, 7, 1])\n",
            "tensor([7, 4, 3, 3])\n",
            "tensor([3, 2, 3, 5])\n",
            "tensor([0, 7, 4, 9])\n",
            "tensor([2, 8, 3, 7])\n",
            "tensor([9, 1, 0, 0])\n",
            "tensor([4, 7, 8, 1])\n",
            "tensor([9, 6, 2, 5])\n",
            "tensor([6, 5, 6, 1])\n",
            "tensor([2, 7, 3, 3])\n",
            "tensor([6, 9, 4, 9])\n",
            "tensor([0, 9, 5, 5])\n",
            "tensor([2, 0, 4, 4])\n",
            "tensor([1, 2, 3, 2])\n",
            "tensor([1, 0, 2, 2])\n",
            "tensor([0, 6, 2, 0])\n",
            "tensor([0, 4, 9, 4])\n",
            "tensor([5, 3, 2, 1])\n",
            "tensor([3, 5, 4, 8])\n",
            "tensor([9, 5, 8, 4])\n",
            "tensor([1, 4, 0, 9])\n",
            "tensor([0, 5, 8, 9])\n",
            "tensor([6, 3, 1, 6])\n",
            "tensor([2, 3, 5, 7])\n",
            "tensor([3, 2, 1, 4])\n",
            "tensor([6, 3, 0, 4])\n",
            "tensor([8, 5, 1, 9])\n",
            "tensor([5, 3, 0, 4])\n",
            "tensor([3, 8, 9, 7])\n",
            "tensor([3, 5, 3, 2])\n",
            "tensor([9, 8, 6, 1])\n",
            "tensor([3, 1, 0, 2])\n",
            "tensor([5, 4, 5, 1])\n",
            "tensor([1, 5, 4, 4])\n",
            "tensor([7, 9, 2, 9])\n",
            "tensor([5, 9, 5, 5])\n",
            "tensor([6, 7, 7, 7])\n",
            "tensor([0, 5, 8, 1])\n",
            "tensor([2, 1, 7, 8])\n",
            "tensor([8, 5, 9, 2])\n",
            "tensor([3, 5, 6, 2])\n",
            "tensor([8, 1, 6, 9])\n",
            "tensor([8, 5, 9, 1])\n",
            "tensor([1, 9, 9, 5])\n",
            "tensor([9, 7, 9, 2])\n",
            "tensor([8, 2, 9, 7])\n",
            "tensor([5, 3, 3, 9])\n",
            "tensor([0, 4, 8, 4])\n",
            "tensor([3, 9, 3, 6])\n",
            "tensor([4, 9, 1, 8])\n",
            "tensor([1, 5, 7, 4])\n",
            "tensor([1, 9, 6, 0])\n",
            "tensor([7, 4, 1, 8])\n",
            "tensor([9, 9, 1, 9])\n",
            "tensor([1, 5, 3, 6])\n",
            "tensor([1, 9, 4, 0])\n",
            "tensor([2, 9, 9, 3])\n",
            "tensor([7, 6, 3, 3])\n",
            "tensor([9, 0, 3, 3])\n",
            "tensor([3, 8, 5, 8])\n",
            "tensor([7, 6, 2, 6])\n",
            "tensor([7, 6, 5, 7])\n",
            "tensor([8, 7, 7, 7])\n",
            "tensor([9, 0, 8, 7])\n",
            "tensor([3, 6, 3, 1])\n",
            "tensor([0, 7, 7, 1])\n",
            "tensor([1, 9, 7, 6])\n",
            "tensor([5, 3, 5, 8])\n",
            "tensor([3, 8, 2, 5])\n",
            "tensor([5, 6, 9, 8])\n",
            "tensor([9, 9, 7, 1])\n",
            "tensor([1, 6, 8, 5])\n",
            "tensor([2, 7, 8, 1])\n",
            "tensor([1, 5, 7, 7])\n",
            "tensor([9, 0, 9, 6])\n",
            "tensor([4, 3, 8, 4])\n",
            "tensor([1, 0, 8, 0])\n",
            "tensor([7, 2, 3, 7])\n",
            "tensor([7, 8, 9, 5])\n",
            "tensor([3, 3, 6, 9])\n",
            "tensor([8, 3, 7, 5])\n",
            "tensor([3, 8, 8, 2])\n",
            "tensor([4, 0, 8, 8])\n",
            "tensor([6, 7, 2, 8])\n",
            "tensor([9, 9, 6, 4])\n",
            "tensor([5, 7, 7, 9])\n",
            "tensor([5, 4, 4, 8])\n",
            "tensor([9, 8, 3, 0])\n",
            "tensor([3, 4, 6, 0])\n",
            "tensor([2, 7, 1, 2])\n",
            "tensor([7, 4, 1, 5])\n",
            "tensor([0, 9, 2, 0])\n",
            "tensor([0, 3, 7, 7])\n",
            "tensor([5, 7, 3, 5])\n",
            "tensor([0, 4, 1, 5])\n",
            "tensor([6, 1, 3, 9])\n",
            "tensor([3, 6, 0, 4])\n",
            "tensor([1, 6, 1, 7])\n",
            "tensor([4, 0, 2, 7])\n",
            "tensor([4, 0, 8, 7])\n",
            "tensor([3, 5, 9, 0])\n",
            "tensor([2, 4, 4, 6])\n",
            "tensor([5, 7, 9, 5])\n",
            "tensor([6, 8, 5, 7])\n",
            "tensor([1, 2, 2, 6])\n",
            "tensor([8, 5, 1, 5])\n",
            "tensor([7, 0, 5, 2])\n",
            "tensor([0, 2, 3, 4])\n",
            "tensor([0, 7, 2, 8])\n",
            "tensor([0, 5, 4, 1])\n",
            "tensor([5, 4, 0, 9])\n",
            "tensor([4, 0, 4, 1])\n",
            "tensor([0, 6, 0, 3])\n",
            "tensor([2, 1, 6, 8])\n",
            "tensor([6, 8, 6, 5])\n",
            "tensor([2, 3, 2, 6])\n",
            "tensor([4, 3, 8, 3])\n",
            "tensor([6, 5, 8, 6])\n",
            "tensor([0, 8, 6, 2])\n",
            "tensor([5, 2, 0, 5])\n",
            "tensor([9, 4, 1, 1])\n",
            "tensor([7, 9, 6, 4])\n",
            "tensor([9, 0, 6, 0])\n",
            "tensor([3, 7, 0, 3])\n",
            "tensor([8, 9, 7, 4])\n",
            "tensor([8, 1, 1, 7])\n",
            "tensor([8, 6, 8, 0])\n",
            "tensor([1, 7, 0, 7])\n",
            "tensor([9, 3, 5, 1])\n",
            "tensor([4, 3, 2, 1])\n",
            "tensor([3, 4, 7, 2])\n",
            "tensor([7, 4, 0, 1])\n",
            "tensor([8, 4, 3, 5])\n",
            "tensor([2, 0, 5, 1])\n",
            "tensor([9, 9, 8, 2])\n",
            "tensor([3, 8, 7, 9])\n",
            "tensor([6, 6, 1, 6])\n",
            "tensor([4, 8, 2, 6])\n",
            "tensor([9, 9, 1, 7])\n",
            "tensor([2, 5, 0, 2])\n",
            "tensor([6, 6, 1, 5])\n",
            "tensor([5, 8, 9, 4])\n",
            "tensor([6, 6, 1, 0])\n",
            "tensor([6, 0, 4, 3])\n",
            "tensor([1, 6, 6, 9])\n",
            "tensor([6, 7, 2, 5])\n",
            "tensor([8, 0, 7, 7])\n",
            "tensor([2, 8, 5, 1])\n",
            "tensor([4, 8, 2, 7])\n",
            "tensor([1, 6, 5, 2])\n",
            "tensor([1, 9, 3, 5])\n",
            "tensor([2, 7, 8, 6])\n",
            "tensor([6, 5, 5, 9])\n",
            "tensor([8, 6, 5, 8])\n",
            "tensor([1, 5, 4, 5])\n",
            "tensor([5, 6, 3, 7])\n",
            "tensor([2, 4, 6, 0])\n",
            "tensor([2, 5, 2, 5])\n",
            "tensor([4, 6, 3, 8])\n",
            "tensor([6, 0, 3, 1])\n",
            "tensor([5, 5, 2, 8])\n",
            "tensor([9, 2, 7, 9])\n",
            "tensor([1, 6, 6, 3])\n",
            "tensor([6, 1, 8, 8])\n",
            "tensor([0, 9, 3, 8])\n",
            "tensor([3, 9, 2, 2])\n",
            "tensor([9, 8, 0, 6])\n",
            "tensor([3, 1, 9, 0])\n",
            "tensor([9, 2, 8, 8])\n",
            "tensor([5, 2, 8, 2])\n",
            "tensor([1, 4, 0, 2])\n",
            "tensor([7, 3, 9, 9])\n",
            "tensor([6, 5, 4, 3])\n",
            "tensor([8, 5, 3, 0])\n",
            "tensor([7, 2, 6, 2])\n",
            "tensor([0, 8, 9, 8])\n",
            "tensor([3, 1, 8, 1])\n",
            "tensor([4, 4, 8, 9])\n",
            "tensor([6, 9, 9, 0])\n",
            "tensor([9, 7, 5, 6])\n",
            "tensor([4, 2, 4, 0])\n",
            "tensor([7, 2, 9, 0])\n",
            "tensor([6, 3, 1, 0])\n",
            "tensor([3, 7, 1, 4])\n",
            "tensor([3, 7, 6, 2])\n",
            "tensor([2, 1, 1, 4])\n",
            "tensor([5, 1, 2, 7])\n",
            "tensor([8, 4, 8, 1])\n",
            "tensor([0, 8, 6, 0])\n",
            "tensor([4, 7, 1, 9])\n",
            "tensor([5, 2, 4, 3])\n",
            "tensor([3, 1, 1, 4])\n",
            "tensor([6, 7, 8, 1])\n",
            "tensor([9, 6, 4, 8])\n",
            "tensor([0, 2, 8, 6])\n",
            "tensor([3, 2, 2, 2])\n",
            "tensor([7, 1, 6, 4])\n",
            "tensor([9, 4, 5, 7])\n",
            "tensor([7, 5, 0, 1])\n",
            "tensor([2, 4, 6, 4])\n",
            "tensor([8, 7, 2, 6])\n",
            "tensor([3, 5, 0, 1])\n",
            "tensor([0, 3, 9, 7])\n",
            "tensor([6, 8, 3, 2])\n",
            "tensor([2, 0, 7, 3])\n",
            "tensor([7, 9, 7, 5])\n",
            "tensor([4, 6, 4, 0])\n",
            "tensor([2, 4, 7, 9])\n",
            "tensor([3, 2, 9, 5])\n",
            "tensor([0, 1, 1, 5])\n",
            "tensor([3, 1, 3, 1])\n",
            "tensor([3, 3, 3, 9])\n",
            "tensor([3, 2, 1, 4])\n",
            "tensor([6, 4, 3, 1])\n",
            "tensor([3, 7, 5, 2])\n",
            "tensor([1, 3, 5, 5])\n",
            "tensor([5, 9, 3, 4])\n",
            "tensor([5, 3, 8, 1])\n",
            "tensor([7, 5, 1, 6])\n",
            "tensor([4, 3, 4, 6])\n",
            "tensor([5, 2, 5, 6])\n",
            "tensor([3, 6, 6, 4])\n",
            "tensor([4, 2, 0, 6])\n",
            "tensor([2, 1, 8, 4])\n",
            "tensor([2, 1, 0, 0])\n",
            "tensor([8, 7, 6, 7])\n",
            "tensor([8, 1, 5, 4])\n",
            "tensor([7, 2, 6, 6])\n",
            "tensor([3, 1, 1, 7])\n",
            "tensor([0, 0, 2, 1])\n",
            "tensor([9, 3, 5, 8])\n",
            "tensor([2, 9, 3, 4])\n",
            "tensor([4, 3, 4, 4])\n",
            "tensor([6, 3, 1, 9])\n",
            "tensor([4, 9, 9, 3])\n",
            "tensor([1, 9, 4, 2])\n",
            "tensor([5, 3, 2, 4])\n",
            "tensor([1, 1, 3, 0])\n",
            "tensor([5, 4, 9, 9])\n",
            "tensor([1, 9, 8, 7])\n",
            "tensor([5, 3, 8, 5])\n",
            "tensor([6, 0, 0, 2])\n",
            "tensor([7, 2, 7, 1])\n",
            "tensor([3, 0, 4, 2])\n",
            "tensor([1, 5, 8, 6])\n",
            "tensor([6, 9, 1, 8])\n",
            "tensor([4, 6, 6, 4])\n",
            "tensor([0, 9, 9, 7])\n",
            "tensor([9, 0, 5, 8])\n",
            "tensor([7, 4, 5, 6])\n",
            "tensor([8, 2, 9, 5])\n",
            "tensor([3, 8, 3, 8])\n",
            "tensor([2, 9, 7, 8])\n",
            "tensor([0, 7, 1, 3])\n",
            "tensor([9, 2, 0, 3])\n",
            "tensor([4, 0, 6, 1])\n",
            "tensor([6, 4, 9, 8])\n",
            "tensor([9, 6, 0, 5])\n",
            "tensor([2, 6, 2, 7])\n",
            "tensor([4, 6, 2, 8])\n",
            "tensor([7, 1, 1, 2])\n",
            "tensor([6, 5, 9, 2])\n",
            "tensor([2, 6, 1, 5])\n",
            "tensor([0, 1, 5, 9])\n",
            "tensor([8, 3, 5, 5])\n",
            "tensor([4, 2, 8, 6])\n",
            "tensor([7, 1, 6, 6])\n",
            "tensor([0, 0, 2, 3])\n",
            "tensor([8, 4, 5, 9])\n",
            "tensor([8, 0, 3, 3])\n",
            "tensor([7, 6, 9, 8])\n",
            "tensor([5, 4, 4, 4])\n",
            "tensor([9, 0, 5, 8])\n",
            "tensor([4, 3, 9, 5])\n",
            "tensor([9, 2, 5, 1])\n",
            "tensor([6, 1, 3, 0])\n",
            "tensor([4, 3, 2, 6])\n",
            "tensor([6, 5, 1, 5])\n",
            "tensor([4, 2, 6, 2])\n",
            "tensor([8, 6, 3, 2])\n",
            "tensor([0, 9, 9, 7])\n",
            "tensor([0, 1, 4, 0])\n",
            "tensor([0, 7, 6, 0])\n",
            "tensor([8, 9, 7, 4])\n",
            "tensor([4, 2, 7, 5])\n",
            "tensor([0, 3, 3, 2])\n",
            "tensor([2, 1, 0, 5])\n",
            "tensor([1, 6, 3, 2])\n",
            "tensor([2, 8, 2, 6])\n",
            "tensor([8, 9, 8, 9])\n",
            "tensor([5, 4, 5, 8])\n",
            "tensor([6, 7, 0, 2])\n",
            "tensor([8, 2, 9, 7])\n",
            "tensor([4, 0, 6, 6])\n",
            "tensor([1, 9, 9, 0])\n",
            "tensor([1, 2, 9, 2])\n",
            "tensor([0, 3, 6, 0])\n",
            "tensor([1, 0, 6, 3])\n",
            "tensor([7, 3, 9, 1])\n",
            "tensor([2, 2, 1, 6])\n",
            "tensor([4, 1, 4, 1])\n",
            "tensor([3, 6, 5, 8])\n",
            "tensor([6, 0, 9, 4])\n",
            "tensor([1, 3, 0, 4])\n",
            "tensor([2, 3, 5, 7])\n",
            "tensor([6, 4, 3, 5])\n",
            "tensor([2, 3, 4, 0])\n",
            "tensor([5, 5, 4, 9])\n",
            "tensor([1, 4, 1, 4])\n",
            "tensor([1, 5, 3, 0])\n",
            "tensor([2, 4, 7, 0])\n",
            "tensor([2, 2, 5, 1])\n",
            "tensor([8, 5, 2, 5])\n",
            "tensor([3, 5, 3, 7])\n",
            "tensor([5, 8, 0, 6])\n",
            "tensor([1, 2, 2, 8])\n",
            "tensor([6, 0, 4, 9])\n",
            "tensor([9, 0, 6, 0])\n",
            "tensor([1, 9, 3, 0])\n",
            "tensor([6, 1, 1, 0])\n",
            "tensor([7, 9, 7, 6])\n",
            "tensor([5, 0, 5, 5])\n",
            "tensor([2, 3, 5, 2])\n",
            "tensor([5, 7, 7, 1])\n",
            "tensor([9, 2, 2, 5])\n",
            "tensor([0, 6, 3, 1])\n",
            "tensor([8, 6, 2, 1])\n",
            "tensor([2, 0, 9, 5])\n",
            "tensor([8, 9, 9, 0])\n",
            "tensor([2, 4, 0, 1])\n",
            "tensor([1, 1, 1, 5])\n",
            "tensor([2, 1, 4, 3])\n",
            "tensor([8, 0, 2, 7])\n",
            "tensor([9, 2, 7, 9])\n",
            "tensor([0, 5, 8, 3])\n",
            "tensor([5, 8, 7, 5])\n",
            "tensor([6, 4, 7, 2])\n",
            "tensor([0, 8, 9, 3])\n",
            "tensor([1, 9, 3, 9])\n",
            "tensor([5, 6, 8, 0])\n",
            "tensor([0, 6, 5, 5])\n",
            "tensor([0, 7, 0, 8])\n",
            "tensor([1, 3, 1, 3])\n",
            "tensor([3, 1, 6, 7])\n",
            "tensor([2, 8, 6, 5])\n",
            "tensor([5, 8, 6, 8])\n",
            "tensor([4, 9, 7, 1])\n",
            "tensor([4, 8, 2, 0])\n",
            "tensor([2, 4, 2, 7])\n",
            "tensor([0, 7, 5, 4])\n",
            "tensor([8, 7, 9, 4])\n",
            "tensor([3, 4, 3, 7])\n",
            "tensor([0, 9, 3, 5])\n",
            "tensor([9, 1, 6, 3])\n",
            "tensor([4, 6, 4, 5])\n",
            "tensor([5, 4, 7, 6])\n",
            "tensor([5, 9, 9, 4])\n",
            "tensor([4, 6, 1, 8])\n",
            "tensor([5, 4, 7, 4])\n",
            "tensor([7, 0, 3, 2])\n",
            "tensor([0, 3, 8, 9])\n",
            "tensor([9, 6, 8, 0])\n",
            "tensor([6, 7, 4, 4])\n",
            "tensor([3, 7, 4, 3])\n"
          ]
        },
        {
          "output_type": "error",
          "ename": "KeyboardInterrupt",
          "evalue": "ignored",
          "traceback": [
            "\u001b[0;31m---------------------------------------------------------------------------\u001b[0m",
            "\u001b[0;31mKeyboardInterrupt\u001b[0m                         Traceback (most recent call last)",
            "\u001b[0;32m<ipython-input-15-ebc84475cb47>\u001b[0m in \u001b[0;36m<module>\u001b[0;34m\u001b[0m\n\u001b[1;32m      4\u001b[0m \u001b[0;31m# for the tests, we don't need to update the gradient\u001b[0m\u001b[0;34m\u001b[0m\u001b[0;34m\u001b[0m\u001b[0;34m\u001b[0m\u001b[0m\n\u001b[1;32m      5\u001b[0m \u001b[0;32mwith\u001b[0m \u001b[0mtorch\u001b[0m\u001b[0;34m.\u001b[0m\u001b[0mno_grad\u001b[0m\u001b[0;34m(\u001b[0m\u001b[0;34m)\u001b[0m\u001b[0;34m:\u001b[0m\u001b[0;34m\u001b[0m\u001b[0;34m\u001b[0m\u001b[0m\n\u001b[0;32m----> 6\u001b[0;31m   \u001b[0;32mfor\u001b[0m \u001b[0mdata\u001b[0m \u001b[0;32min\u001b[0m \u001b[0mtestloader\u001b[0m\u001b[0;34m:\u001b[0m\u001b[0;34m\u001b[0m\u001b[0;34m\u001b[0m\u001b[0m\n\u001b[0m\u001b[1;32m      7\u001b[0m     \u001b[0mimages\u001b[0m\u001b[0;34m,\u001b[0m \u001b[0mlabels\u001b[0m \u001b[0;34m=\u001b[0m \u001b[0mdata\u001b[0m\u001b[0;34m\u001b[0m\u001b[0;34m\u001b[0m\u001b[0m\n\u001b[1;32m      8\u001b[0m \u001b[0;34m\u001b[0m\u001b[0m\n",
            "\u001b[0;32m/usr/local/lib/python3.7/dist-packages/torch/utils/data/dataloader.py\u001b[0m in \u001b[0;36m__next__\u001b[0;34m(self)\u001b[0m\n\u001b[1;32m    675\u001b[0m \u001b[0;34m\u001b[0m\u001b[0m\n\u001b[1;32m    676\u001b[0m     \u001b[0;32mdef\u001b[0m \u001b[0m__next__\u001b[0m\u001b[0;34m(\u001b[0m\u001b[0mself\u001b[0m\u001b[0;34m)\u001b[0m \u001b[0;34m->\u001b[0m \u001b[0mAny\u001b[0m\u001b[0;34m:\u001b[0m\u001b[0;34m\u001b[0m\u001b[0;34m\u001b[0m\u001b[0m\n\u001b[0;32m--> 677\u001b[0;31m         \u001b[0;32mwith\u001b[0m \u001b[0mtorch\u001b[0m\u001b[0;34m.\u001b[0m\u001b[0mautograd\u001b[0m\u001b[0;34m.\u001b[0m\u001b[0mprofiler\u001b[0m\u001b[0;34m.\u001b[0m\u001b[0mrecord_function\u001b[0m\u001b[0;34m(\u001b[0m\u001b[0mself\u001b[0m\u001b[0;34m.\u001b[0m\u001b[0m_profile_name\u001b[0m\u001b[0;34m)\u001b[0m\u001b[0;34m:\u001b[0m\u001b[0;34m\u001b[0m\u001b[0;34m\u001b[0m\u001b[0m\n\u001b[0m\u001b[1;32m    678\u001b[0m             \u001b[0;32mif\u001b[0m \u001b[0mself\u001b[0m\u001b[0;34m.\u001b[0m\u001b[0m_sampler_iter\u001b[0m \u001b[0;32mis\u001b[0m \u001b[0;32mNone\u001b[0m\u001b[0;34m:\u001b[0m\u001b[0;34m\u001b[0m\u001b[0;34m\u001b[0m\u001b[0m\n\u001b[1;32m    679\u001b[0m                 \u001b[0;31m# TODO(https://github.com/pytorch/pytorch/issues/76750)\u001b[0m\u001b[0;34m\u001b[0m\u001b[0;34m\u001b[0m\u001b[0;34m\u001b[0m\u001b[0m\n",
            "\u001b[0;32m/usr/local/lib/python3.7/dist-packages/torch/autograd/profiler.py\u001b[0m in \u001b[0;36m__init__\u001b[0;34m(self, name, args)\u001b[0m\n\u001b[1;32m    441\u001b[0m         \u001b[0;31m# Stores underlying RecordFunction as a tensor. TODO: move to custom\u001b[0m\u001b[0;34m\u001b[0m\u001b[0;34m\u001b[0m\u001b[0;34m\u001b[0m\u001b[0m\n\u001b[1;32m    442\u001b[0m         \u001b[0;31m# class (https://github.com/pytorch/pytorch/issues/35026).\u001b[0m\u001b[0;34m\u001b[0m\u001b[0;34m\u001b[0m\u001b[0;34m\u001b[0m\u001b[0m\n\u001b[0;32m--> 443\u001b[0;31m         \u001b[0mself\u001b[0m\u001b[0;34m.\u001b[0m\u001b[0mhandle\u001b[0m\u001b[0;34m:\u001b[0m \u001b[0mtorch\u001b[0m\u001b[0;34m.\u001b[0m\u001b[0mTensor\u001b[0m \u001b[0;34m=\u001b[0m \u001b[0mtorch\u001b[0m\u001b[0;34m.\u001b[0m\u001b[0mzeros\u001b[0m\u001b[0;34m(\u001b[0m\u001b[0;36m1\u001b[0m\u001b[0;34m)\u001b[0m\u001b[0;34m\u001b[0m\u001b[0;34m\u001b[0m\u001b[0m\n\u001b[0m\u001b[1;32m    444\u001b[0m \u001b[0;34m\u001b[0m\u001b[0m\n\u001b[1;32m    445\u001b[0m     \u001b[0;32mdef\u001b[0m \u001b[0m__enter__\u001b[0m\u001b[0;34m(\u001b[0m\u001b[0mself\u001b[0m\u001b[0;34m)\u001b[0m\u001b[0;34m:\u001b[0m\u001b[0;34m\u001b[0m\u001b[0;34m\u001b[0m\u001b[0m\n",
            "\u001b[0;31mKeyboardInterrupt\u001b[0m: "
          ]
        }
      ]
    },
    {
      "cell_type": "code",
      "source": [
        "corred_pred={classname:0 for classname in classes}\n",
        "total_pred={classname:0 for classname in classes}\n",
        "\n"
      ],
      "metadata": {
        "id": "dfTi8hu1xEJd"
      },
      "execution_count": null,
      "outputs": []
    }
  ]
}