{
  "nbformat": 4,
  "nbformat_minor": 0,
  "metadata": {
    "colab": {
      "name": "Tensor.ipynb",
      "provenance": [],
      "authorship_tag": "ABX9TyNSp1VgGxtWrIg2zI+31ljy",
      "include_colab_link": true
    },
    "kernelspec": {
      "name": "python3",
      "display_name": "Python 3"
    },
    "language_info": {
      "name": "python"
    }
  },
  "cells": [
    {
      "cell_type": "markdown",
      "metadata": {
        "id": "view-in-github",
        "colab_type": "text"
      },
      "source": [
        "<a href=\"https://colab.research.google.com/github/gyuwonchoi/PytorchTutorial/blob/main/Tensor.ipynb\" target=\"_parent\"><img src=\"https://colab.research.google.com/assets/colab-badge.svg\" alt=\"Open In Colab\"/></a>"
      ]
    },
    {
      "cell_type": "code",
      "execution_count": 1,
      "metadata": {
        "id": "zCo0LOYbRiz7"
      },
      "outputs": [],
      "source": [
        "import torch \n",
        "import numpy as np "
      ]
    },
    {
      "cell_type": "markdown",
      "source": [
        "### 텐서 초기화"
      ],
      "metadata": {
        "id": "TaBzKgjwTAsR"
      }
    },
    {
      "cell_type": "code",
      "source": [
        "data=[[1, 2],[3, 4]]\n",
        "x_data=torch.tensor(data)\n",
        "\n",
        "print(x_data[:,0]) # dimension changed "
      ],
      "metadata": {
        "colab": {
          "base_uri": "https://localhost:8080/"
        },
        "id": "m5GPSpPpSw-Q",
        "outputId": "0f526de0-7cd2-4432-de93-0182a220f9ee"
      },
      "execution_count": 7,
      "outputs": [
        {
          "output_type": "stream",
          "name": "stdout",
          "text": [
            "tensor([1, 3])\n"
          ]
        }
      ]
    },
    {
      "cell_type": "code",
      "source": [
        "np_array=np.array(data) # tensor to numpy\n",
        "x_np = torch.from_numpy(np_array) # numpy to tensor\n",
        "\n",
        "print(x_np)"
      ],
      "metadata": {
        "colab": {
          "base_uri": "https://localhost:8080/"
        },
        "id": "-aBK2luPSyHK",
        "outputId": "58f419cb-a62a-42b5-c947-a6bbebc1e937"
      },
      "execution_count": 10,
      "outputs": [
        {
          "output_type": "stream",
          "name": "stdout",
          "text": [
            "tensor([[1, 2],\n",
            "        [3, 4]])\n"
          ]
        }
      ]
    }
  ]
}