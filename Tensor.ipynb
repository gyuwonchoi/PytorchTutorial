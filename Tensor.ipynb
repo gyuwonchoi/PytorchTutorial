{
  "nbformat": 4,
  "nbformat_minor": 0,
  "metadata": {
    "colab": {
      "name": "Tensor.ipynb",
      "provenance": [],
      "collapsed_sections": [],
      "authorship_tag": "ABX9TyMJBUkW07sS1bly2p4gUl+G",
      "include_colab_link": true
    },
    "kernelspec": {
      "name": "python3",
      "display_name": "Python 3"
    },
    "language_info": {
      "name": "python"
    },
    "gpuClass": "standard"
  },
  "cells": [
    {
      "cell_type": "markdown",
      "metadata": {
        "id": "view-in-github",
        "colab_type": "text"
      },
      "source": [
        "<a href=\"https://colab.research.google.com/github/gyuwonchoi/PytorchTutorial/blob/main/Tensor.ipynb\" target=\"_parent\"><img src=\"https://colab.research.google.com/assets/colab-badge.svg\" alt=\"Open In Colab\"/></a>"
      ]
    },
    {
      "cell_type": "code",
      "execution_count": 10,
      "metadata": {
        "id": "zCo0LOYbRiz7"
      },
      "outputs": [],
      "source": [
        "import torch \n",
        "import numpy as np "
      ]
    },
    {
      "cell_type": "markdown",
      "source": [
        "### 텐서 초기화"
      ],
      "metadata": {
        "id": "TaBzKgjwTAsR"
      }
    },
    {
      "cell_type": "code",
      "source": [
        "data=[[1, 2],[3, 4]]\n",
        "x_data=torch.tensor(data)\n",
        "\n",
        "print(x_data[:,0]) # dimension changed "
      ],
      "metadata": {
        "colab": {
          "base_uri": "https://localhost:8080/"
        },
        "id": "m5GPSpPpSw-Q",
        "outputId": "0f526de0-7cd2-4432-de93-0182a220f9ee"
      },
      "execution_count": 7,
      "outputs": [
        {
          "output_type": "stream",
          "name": "stdout",
          "text": [
            "tensor([1, 3])\n"
          ]
        }
      ]
    },
    {
      "cell_type": "code",
      "source": [
        "np_array=np.array(data) # tensor to numpy : colab does not show \" , \" \n",
        "x_np = torch.from_numpy(np_array) # numpy to tensor"
      ],
      "metadata": {
        "id": "-aBK2luPSyHK"
      },
      "execution_count": 17,
      "outputs": []
    },
    {
      "cell_type": "code",
      "source": [
        "x_ones = torch.ones_like(x_data) # remain the x_data's attribute\n",
        "print(f\"Ones Tensor:\\n{x_ones}\")\n",
        "\n",
        "x_rand = torch.rand_like(x_data, dtype=torch.float) # declare the data type\n",
        "print(f\"Random Tensor: \\n {x_rand}\\n\")"
      ],
      "metadata": {
        "colab": {
          "base_uri": "https://localhost:8080/"
        },
        "id": "w4Lxyc3nW6ox",
        "outputId": "6e75fbbd-4576-47a2-bef4-a44da8a5cc80"
      },
      "execution_count": 21,
      "outputs": [
        {
          "output_type": "stream",
          "name": "stdout",
          "text": [
            "Ones Tensor:\n",
            "tensor([[1, 1],\n",
            "        [1, 1]])\n",
            "Random Tensor: \n",
            " tensor([[0.2815, 0.1094],\n",
            "        [0.7352, 0.3927]])\n",
            "\n"
          ]
        }
      ]
    },
    {
      "cell_type": "markdown",
      "source": [
        "### Shape은 텐서의 dimension을 나타내는 튜플로, 출력 텐서의 차원을 결정"
      ],
      "metadata": {
        "id": "1QEloiSwXwem"
      }
    },
    {
      "cell_type": "code",
      "source": [
        "shape = (2,3, )\n",
        "\n",
        "rand_tensor=torch.rand(shape)\n",
        "print(rand_tensor)\n",
        "\n",
        "ones_tensor=torch.ones(shape)\n",
        "print(ones_tensor)\n",
        "\n",
        "zero_tensor=torch.zeros(shape)\n",
        "print(zero_tensor)"
      ],
      "metadata": {
        "colab": {
          "base_uri": "https://localhost:8080/"
        },
        "id": "Co0Z7o2gXZLc",
        "outputId": "7b20d21b-20c5-4412-8474-6c74bbdac372"
      },
      "execution_count": 3,
      "outputs": [
        {
          "output_type": "stream",
          "name": "stdout",
          "text": [
            "tensor([[0.0132, 0.3912, 0.9280],\n",
            "        [0.6625, 0.8137, 0.7683]])\n",
            "tensor([[1., 1., 1.],\n",
            "        [1., 1., 1.]])\n",
            "tensor([[0., 0., 0.],\n",
            "        [0., 0., 0.]])\n"
          ]
        }
      ]
    },
    {
      "cell_type": "markdown",
      "source": [
        "### Attribute of Tensor"
      ],
      "metadata": {
        "id": "P-MWsyVk31mV"
      }
    },
    {
      "cell_type": "code",
      "source": [
        "tensor=torch.rand(3,4)\n",
        "\n",
        "print(tensor)\n",
        "print(f\"shape of tensor:{tensor.shape}\")\n",
        "print(f\"dtpye of tensor:{tensor.dtype}\")\n",
        "print(f\"device of tensor:{tensor.device}\")"
      ],
      "metadata": {
        "colab": {
          "base_uri": "https://localhost:8080/"
        },
        "id": "OBIA4rXo38oc",
        "outputId": "0ce16ca5-3cad-4479-9d10-7813f89805cc"
      },
      "execution_count": 3,
      "outputs": [
        {
          "output_type": "stream",
          "name": "stdout",
          "text": [
            "tensor([[0.8897, 0.5819, 0.5262, 0.5289],\n",
            "        [0.5568, 0.8922, 0.2944, 0.0324],\n",
            "        [0.9185, 0.8345, 0.7642, 0.6277]])\n",
            "shape of tensor:torch.Size([3, 4])\n",
            "dtpye of tensor:torch.float32\n",
            "device of tensor:cpu\n"
          ]
        }
      ]
    },
    {
      "cell_type": "markdown",
      "source": [
        "### Operation of Tensor\n",
        "##### .to :GPU로 텐서를 명시적 이동"
      ],
      "metadata": {
        "id": "8GEl7H5V40MK"
      }
    },
    {
      "cell_type": "code",
      "source": [
        "if torch.cuda.is_available():\n",
        "  tensor=tensor.to(\"cuda\")"
      ],
      "metadata": {
        "id": "ISS9zm8z4oV-"
      },
      "execution_count": 5,
      "outputs": []
    },
    {
      "cell_type": "code",
      "source": [
        "tensor=torch.ones(4,4)\n",
        "\n",
        "print(tensor)\n",
        "print(f\"{tensor[0]}\") # first row\n",
        "print(f\"{tensor[:, 0]}\") # first column\n",
        "print(f\"{tensor[..., -1]}\") # last column"
      ],
      "metadata": {
        "colab": {
          "base_uri": "https://localhost:8080/"
        },
        "id": "09lgWv2z5rMt",
        "outputId": "47d4dab6-6d61-4fa2-d94a-8c8d06c9153d"
      },
      "execution_count": 10,
      "outputs": [
        {
          "output_type": "stream",
          "name": "stdout",
          "text": [
            "tensor([[1., 1., 1., 1.],\n",
            "        [1., 1., 1., 1.],\n",
            "        [1., 1., 1., 1.],\n",
            "        [1., 1., 1., 1.]])\n",
            "tensor([1., 1., 1., 1.])\n",
            "tensor([1., 1., 1., 1.])\n",
            "tensor([1., 1., 1., 1.])\n"
          ]
        }
      ]
    },
    {
      "cell_type": "code",
      "source": [
        "tensor[:, 1] =0\n",
        "print(tensor)"
      ],
      "metadata": {
        "colab": {
          "base_uri": "https://localhost:8080/"
        },
        "id": "EwhPFdkU50zd",
        "outputId": "edd5538c-1fde-4111-e390-90fcc83d57aa"
      },
      "execution_count": 11,
      "outputs": [
        {
          "output_type": "stream",
          "name": "stdout",
          "text": [
            "tensor([[1., 0., 1., 1.],\n",
            "        [1., 0., 1., 1.],\n",
            "        [1., 0., 1., 1.],\n",
            "        [1., 0., 1., 1.]])\n"
          ]
        }
      ]
    },
    {
      "cell_type": "code",
      "source": [
        "# torch.act\n",
        "t1 = torch.cat([tensor, tensor, tensor], dim=1)\n",
        "print(t1)\n",
        "\n",
        "# torch.stack \n",
        "t2 = torch.stack([tensor, tensor, tensor])\n",
        "print(t2)"
      ],
      "metadata": {
        "colab": {
          "base_uri": "https://localhost:8080/"
        },
        "id": "SAsBgBM07wT6",
        "outputId": "e4b77cf8-e5f1-4b5f-a259-83c0a9bea886"
      },
      "execution_count": 17,
      "outputs": [
        {
          "output_type": "stream",
          "name": "stdout",
          "text": [
            "tensor([[1., 0., 1., 1., 1., 0., 1., 1., 1., 0., 1., 1.],\n",
            "        [1., 0., 1., 1., 1., 0., 1., 1., 1., 0., 1., 1.],\n",
            "        [1., 0., 1., 1., 1., 0., 1., 1., 1., 0., 1., 1.],\n",
            "        [1., 0., 1., 1., 1., 0., 1., 1., 1., 0., 1., 1.]])\n",
            "tensor([[[1., 0., 1., 1.],\n",
            "         [1., 0., 1., 1.],\n",
            "         [1., 0., 1., 1.],\n",
            "         [1., 0., 1., 1.]],\n",
            "\n",
            "        [[1., 0., 1., 1.],\n",
            "         [1., 0., 1., 1.],\n",
            "         [1., 0., 1., 1.],\n",
            "         [1., 0., 1., 1.]],\n",
            "\n",
            "        [[1., 0., 1., 1.],\n",
            "         [1., 0., 1., 1.],\n",
            "         [1., 0., 1., 1.],\n",
            "         [1., 0., 1., 1.]]])\n"
          ]
        }
      ]
    },
    {
      "cell_type": "code",
      "source": [
        "y1= tensor @ tensor.T\n",
        "y2 = tensor.matmul(tensor.T) # tensor matmul takes 1 argument \n",
        "\n",
        "print(y1)\n",
        "print(y2)\n",
        "\n",
        "y3 = torch.rand_like(y1) # size define\n",
        "torch.matmul(tensor, tensor.T, out=y3) # torch argument takes 3\n",
        "\n",
        "print(y3)"
      ],
      "metadata": {
        "colab": {
          "base_uri": "https://localhost:8080/"
        },
        "id": "dGx6Fw9m8ZyB",
        "outputId": "68ef73ad-b081-4ccc-d168-c388da224c34"
      },
      "execution_count": 20,
      "outputs": [
        {
          "output_type": "stream",
          "name": "stdout",
          "text": [
            "tensor([[3., 3., 3., 3.],\n",
            "        [3., 3., 3., 3.],\n",
            "        [3., 3., 3., 3.],\n",
            "        [3., 3., 3., 3.]])\n",
            "tensor([[3., 3., 3., 3.],\n",
            "        [3., 3., 3., 3.],\n",
            "        [3., 3., 3., 3.],\n",
            "        [3., 3., 3., 3.]])\n",
            "tensor([[3., 3., 3., 3.],\n",
            "        [3., 3., 3., 3.],\n",
            "        [3., 3., 3., 3.],\n",
            "        [3., 3., 3., 3.]])\n"
          ]
        }
      ]
    },
    {
      "cell_type": "code",
      "source": [
        "z1 = tensor * tensor\n",
        "print(z1)\n",
        "\n",
        "z2 = tensor.mul(tensor)\n",
        "print(z2)\n",
        "\n",
        "z3 = torch.rand_like(z1)\n",
        "z3 = torch.mul(tensor, tensor, out=z3)\n",
        "print(z3)"
      ],
      "metadata": {
        "colab": {
          "base_uri": "https://localhost:8080/"
        },
        "id": "9rotnrUN9pQd",
        "outputId": "0ef42431-20cc-4921-beb6-4913d0aacb6c"
      },
      "execution_count": 23,
      "outputs": [
        {
          "output_type": "stream",
          "name": "stdout",
          "text": [
            "tensor([[1., 0., 1., 1.],\n",
            "        [1., 0., 1., 1.],\n",
            "        [1., 0., 1., 1.],\n",
            "        [1., 0., 1., 1.]])\n",
            "tensor([[1., 0., 1., 1.],\n",
            "        [1., 0., 1., 1.],\n",
            "        [1., 0., 1., 1.],\n",
            "        [1., 0., 1., 1.]])\n",
            "tensor([[1., 0., 1., 1.],\n",
            "        [1., 0., 1., 1.],\n",
            "        [1., 0., 1., 1.],\n",
            "        [1., 0., 1., 1.]])\n"
          ]
        }
      ]
    },
    {
      "cell_type": "markdown",
      "source": [
        "### Single-element Tensor : Aggregate(하나로 집계) == 요소가 하나인 Tensor\n"
      ],
      "metadata": {
        "id": "PYC0bVeq-XLb"
      }
    },
    {
      "cell_type": "code",
      "source": [
        "agg=tensor.sum()\n",
        "agg_item=agg.item() \n",
        "\n",
        "print(agg_item)"
      ],
      "metadata": {
        "colab": {
          "base_uri": "https://localhost:8080/"
        },
        "id": "9GNKrTeI-U_D",
        "outputId": "08c2d840-0e0f-4c45-a533-bfe31c50a961"
      },
      "execution_count": 25,
      "outputs": [
        {
          "output_type": "stream",
          "name": "stdout",
          "text": [
            "12.0\n"
          ]
        }
      ]
    },
    {
      "cell_type": "markdown",
      "source": [
        "### In-place 연산"
      ],
      "metadata": {
        "id": "IdBL0gRz-u-2"
      }
    },
    {
      "cell_type": "code",
      "source": [
        "print(f\"{tensor}\")\n",
        "tensor.add_(5) # add() Adds a scalar or tensor to self tensor. \n",
        "               # _는 operand:피연산자를 바꿔치기 : tensor 업데이트 안했는데 바뀜\n",
        "print(tensor)"
      ],
      "metadata": {
        "colab": {
          "base_uri": "https://localhost:8080/"
        },
        "id": "8pDR1f-t-xdM",
        "outputId": "3d117e8c-b286-4867-a9bc-650136d3eb52"
      },
      "execution_count": 27,
      "outputs": [
        {
          "output_type": "stream",
          "name": "stdout",
          "text": [
            "tensor([[1., 0., 1., 1.],\n",
            "        [1., 0., 1., 1.],\n",
            "        [1., 0., 1., 1.],\n",
            "        [1., 0., 1., 1.]])\n",
            "tensor([[6., 5., 6., 6.],\n",
            "        [6., 5., 6., 6.],\n",
            "        [6., 5., 6., 6.],\n",
            "        [6., 5., 6., 6.]])\n"
          ]
        }
      ]
    },
    {
      "cell_type": "markdown",
      "source": [
        "###Numpy 변환"
      ],
      "metadata": {
        "id": "2zXwv5v4A6Na"
      }
    },
    {
      "cell_type": "code",
      "source": [
        "t= torch.ones(5)\n",
        "print(f\"t:{t}\")\n",
        "\n",
        "n= t.numpy()\n",
        "print(n)"
      ],
      "metadata": {
        "colab": {
          "base_uri": "https://localhost:8080/"
        },
        "id": "iOIt1jeDA7a8",
        "outputId": "421b141e-62a6-4184-9b6c-b138501b389d"
      },
      "execution_count": 30,
      "outputs": [
        {
          "output_type": "stream",
          "name": "stdout",
          "text": [
            "t:tensor([1., 1., 1., 1., 1.])\n",
            "[1. 1. 1. 1. 1.]\n"
          ]
        }
      ]
    },
    {
      "cell_type": "code",
      "source": [
        "# 넘파이를 텐서로\n",
        "\n",
        "n= np.ones(5)\n",
        "t= torch.from_numpy(n)\n",
        "\n",
        "print(n)"
      ],
      "metadata": {
        "colab": {
          "base_uri": "https://localhost:8080/"
        },
        "id": "H49K9tmPBaa_",
        "outputId": "c8658eb7-9d41-4fc6-c30e-ecdc928488a2"
      },
      "execution_count": 31,
      "outputs": [
        {
          "output_type": "stream",
          "name": "stdout",
          "text": [
            "[1. 1. 1. 1. 1.]\n"
          ]
        }
      ]
    }
  ]
}