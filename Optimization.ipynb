{
  "nbformat": 4,
  "nbformat_minor": 0,
  "metadata": {
    "colab": {
      "name": "AutoGrad.ipynb",
      "provenance": [],
      "authorship_tag": "ABX9TyN7kYB0AH+/BuAmEVFa6xFK",
      "include_colab_link": true
    },
    "kernelspec": {
      "name": "python3",
      "display_name": "Python 3"
    },
    "language_info": {
      "name": "python"
    }
  },
  "cells": [
    {
      "cell_type": "markdown",
      "metadata": {
        "id": "view-in-github",
        "colab_type": "text"
      },
      "source": [
        "<a href=\"https://colab.research.google.com/github/gyuwonchoi/PytorchTutorial/blob/main/Optimization.ipynb\" target=\"_parent\"><img src=\"https://colab.research.google.com/assets/colab-badge.svg\" alt=\"Open In Colab\"/></a>"
      ]
    },
    {
      "cell_type": "code",
      "execution_count": 4,
      "metadata": {
        "id": "vbLF3FQC9JLp"
      },
      "outputs": [],
      "source": [
        "import torch\n",
        "\n",
        "x=torch.ones(5) #input\n",
        "y=torch.zeros(3) # expected output\n",
        "w= torch.randn(5, 3, requires_grad=True)\n",
        "b= torch.randn(3, requires_grad=True)\n",
        "z=torch.matmul(x,w)+b\n",
        "\n",
        "loss=torch.nn.functional.binary_cross_entropy_with_logits(z,y)"
      ]
    },
    {
      "cell_type": "code",
      "source": [
        "print(f\"Gradient function for z = {z.grad_fn}\")\n",
        "print(f\"Gradient function for loss = {loss.grad_fn}\")"
      ],
      "metadata": {
        "colab": {
          "base_uri": "https://localhost:8080/"
        },
        "id": "AuQhw0df-FiI",
        "outputId": "a82ca87d-1e4d-4ac1-b35e-8c5caca54e6d"
      },
      "execution_count": 5,
      "outputs": [
        {
          "output_type": "stream",
          "name": "stdout",
          "text": [
            "Gradient function for z = <AddBackward0 object at 0x7f7a039e4150>\n",
            "Gradient function for loss = <BinaryCrossEntropyWithLogitsBackward0 object at 0x7f7a039e4110>\n"
          ]
        }
      ]
    },
    {
      "cell_type": "code",
      "source": [
        "loss.backward()\n",
        "print(w.grad)\n",
        "print(b.grad)"
      ],
      "metadata": {
        "colab": {
          "base_uri": "https://localhost:8080/"
        },
        "id": "L-RLTHdZ-HVd",
        "outputId": "a5370f37-2418-4c23-8277-6637fb8760d5"
      },
      "execution_count": 6,
      "outputs": [
        {
          "output_type": "stream",
          "name": "stdout",
          "text": [
            "tensor([[0.0170, 0.3294, 0.0071],\n",
            "        [0.0170, 0.3294, 0.0071],\n",
            "        [0.0170, 0.3294, 0.0071],\n",
            "        [0.0170, 0.3294, 0.0071],\n",
            "        [0.0170, 0.3294, 0.0071]])\n",
            "tensor([0.0170, 0.3294, 0.0071])\n"
          ]
        }
      ]
    },
    {
      "cell_type": "code",
      "source": [
        "z = torch.matmul(x, w)+b\n",
        "print(z.requires_grad)\n",
        "\n",
        "with torch.no_grad():\n",
        "    z=torch.matmul(x,w)+b\n",
        "    \n",
        "print(z.requires_grad)"
      ],
      "metadata": {
        "colab": {
          "base_uri": "https://localhost:8080/"
        },
        "id": "t03IioOO-NMs",
        "outputId": "971a4058-654b-4357-a445-40b8b3203118"
      },
      "execution_count": 10,
      "outputs": [
        {
          "output_type": "stream",
          "name": "stdout",
          "text": [
            "True\n",
            "False\n"
          ]
        }
      ]
    }
  ]
}