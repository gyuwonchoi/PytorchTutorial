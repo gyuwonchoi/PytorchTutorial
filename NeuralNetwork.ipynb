{
  "nbformat": 4,
  "nbformat_minor": 0,
  "metadata": {
    "colab": {
      "name": "NeuralNetwork.ipynb",
      "provenance": [],
      "authorship_tag": "ABX9TyNVqlpK9h1wsR3AqHigzlZb",
      "include_colab_link": true
    },
    "kernelspec": {
      "name": "python3",
      "display_name": "Python 3"
    },
    "language_info": {
      "name": "python"
    }
  },
  "cells": [
    {
      "cell_type": "markdown",
      "metadata": {
        "id": "view-in-github",
        "colab_type": "text"
      },
      "source": [
        "<a href=\"https://colab.research.google.com/github/gyuwonchoi/PytorchTutorial/blob/main/NeuralNetwork.ipynb\" target=\"_parent\"><img src=\"https://colab.research.google.com/assets/colab-badge.svg\" alt=\"Open In Colab\"/></a>"
      ]
    },
    {
      "cell_type": "code",
      "execution_count": 21,
      "metadata": {
        "colab": {
          "base_uri": "https://localhost:8080/"
        },
        "id": "OtKHtXxzylgL",
        "outputId": "206d57d4-009a-4d16-e247-0a06385e0605"
      },
      "outputs": [
        {
          "output_type": "stream",
          "name": "stdout",
          "text": [
            "NeuralNetwork(\n",
            "  (flatten): Flatten(start_dim=1, end_dim=-1)\n",
            "  (linear_relu_stack): Sequential(\n",
            "    (0): Linear(in_features=784, out_features=512, bias=True)\n",
            "    (1): ReLU()\n",
            "    (2): Linear(in_features=512, out_features=512, bias=True)\n",
            "    (3): ReLU()\n",
            "    (4): Linear(in_features=512, out_features=10, bias=True)\n",
            "  )\n",
            ")\n",
            "Predicted Clasee:tensor([5])\n",
            "torch.Size([3, 28, 28])\n",
            "torch.Size([3, 784])\n",
            "torch.Size([3, 20])\n",
            "Before ReLU: tensor([[ 0.0875,  0.0401,  0.2334,  0.0440, -0.0996,  0.2221, -0.3111,  0.0110,\n",
            "         -0.0226,  0.6610, -0.2413,  0.0240,  0.8498,  0.5784, -0.0912,  0.1806,\n",
            "          0.4742, -0.2798,  0.1795, -0.2600],\n",
            "        [ 0.2087,  0.2416,  0.1035,  0.0336, -0.4113,  0.1793, -0.2711, -0.3287,\n",
            "         -0.0229,  0.6623, -0.4426, -0.3209,  1.0337,  0.3424, -0.1648,  0.0815,\n",
            "          0.3677, -0.1298,  0.1132,  0.2477],\n",
            "        [ 0.2699, -0.0065, -0.1399,  0.1076, -0.6415, -0.2448,  0.0160, -0.3774,\n",
            "         -0.1619,  0.6521,  0.1163, -0.3252,  0.9669,  0.5036, -0.3128,  0.3930,\n",
            "          0.6241, -0.2018,  0.0690, -0.1507]], grad_fn=<AddmmBackward0>)\n",
            "\n",
            "\n",
            "After ReLU: tensor([[0.0875, 0.0401, 0.2334, 0.0440, 0.0000, 0.2221, 0.0000, 0.0110, 0.0000,\n",
            "         0.6610, 0.0000, 0.0240, 0.8498, 0.5784, 0.0000, 0.1806, 0.4742, 0.0000,\n",
            "         0.1795, 0.0000],\n",
            "        [0.2087, 0.2416, 0.1035, 0.0336, 0.0000, 0.1793, 0.0000, 0.0000, 0.0000,\n",
            "         0.6623, 0.0000, 0.0000, 1.0337, 0.3424, 0.0000, 0.0815, 0.3677, 0.0000,\n",
            "         0.1132, 0.2477],\n",
            "        [0.2699, 0.0000, 0.0000, 0.1076, 0.0000, 0.0000, 0.0160, 0.0000, 0.0000,\n",
            "         0.6521, 0.1163, 0.0000, 0.9669, 0.5036, 0.0000, 0.3930, 0.6241, 0.0000,\n",
            "         0.0690, 0.0000]], grad_fn=<ReluBackward0>)\n"
          ]
        }
      ],
      "source": [
        "import os\n",
        "import torch\n",
        "from torch import nn \n",
        "from torch.utils.data import DataLoader\n",
        "from torchvision import datasets, transforms\n",
        "\n",
        "device= \"cuda\" if torch.cuda.is_available() else \"cpu\"\n",
        "\n",
        "class NeuralNetwork(nn.Module):\n",
        "  def __init__(self):\n",
        "      super(NeuralNetwork, self).__init__()\n",
        "      self.flatten = nn.Flatten()\n",
        "      self.linear_relu_stack= nn.Sequential(\n",
        "          nn.Linear(28*28, 512),\n",
        "          nn.ReLU(),\n",
        "          nn.Linear(512,512),\n",
        "          nn.ReLU(),\n",
        "          nn.Linear(512,10)\n",
        "      )\n",
        "\n",
        "  def forward(self, input):\n",
        "      x=self.flatten(input)\n",
        "      logits=self.linear_relu_stack(x)\n",
        "      return logits\n",
        "\n",
        "model= NeuralNetwork().to(device)\n",
        "print(model)\n",
        "\n",
        "X=torch.rand(1, 28,28, device= device)\n",
        "logits=model(X)\n",
        "pred_prob=nn.Softmax(dim=1)(logits)\n",
        "y_pred=pred_prob.argmax(1)\n",
        "print(f\"Predicted Clasee:{y_pred}\")\n",
        "\n",
        "input_img=torch.rand(3,28,28)\n",
        "print(input_img.size())\n",
        "\n",
        "flatten = nn.Flatten()\n",
        "flat_image = flatten(input_img)\n",
        "print(flat_image.size())\n",
        "\n",
        "layer1=nn.Linear(in_features=28*28, out_features=20)\n",
        "hidden1= layer1(flat_image)\n",
        "print(hidden1.size())\n",
        "\n",
        "print(f\"Before ReLU: {hidden1}\\n\\n\")\n",
        "hidden1= nn.ReLU()(hidden1) ## ***nn.ReLU()(input) 타입임을 주의 ***\n",
        "print(f\"After ReLU: {hidden1}\")"
      ]
    },
    {
      "cell_type": "code",
      "source": [
        "seq_modules = nn.Sequential(\n",
        "    flatten,\n",
        "    layer1,\n",
        "    nn.ReLU(),\n",
        "    nn.Linear(20,10)\n",
        ")\n",
        "\n",
        "input_img=torch.rand(3,28,28)\n",
        "logits=seq_modules(input_img)\n",
        "\n",
        "softmax=nn.Softmax(dim=1)\n",
        "pred_prob=softmax(logits)\n",
        "\n",
        "print(f\"Model structure: {model}\\n\\n\")"
      ],
      "metadata": {
        "colab": {
          "base_uri": "https://localhost:8080/"
        },
        "id": "Mo6vBL9703U_",
        "outputId": "de21ffc6-0426-4460-8642-038a3754cdb8"
      },
      "execution_count": 22,
      "outputs": [
        {
          "output_type": "stream",
          "name": "stdout",
          "text": [
            "Model structure: NeuralNetwork(\n",
            "  (flatten): Flatten(start_dim=1, end_dim=-1)\n",
            "  (linear_relu_stack): Sequential(\n",
            "    (0): Linear(in_features=784, out_features=512, bias=True)\n",
            "    (1): ReLU()\n",
            "    (2): Linear(in_features=512, out_features=512, bias=True)\n",
            "    (3): ReLU()\n",
            "    (4): Linear(in_features=512, out_features=10, bias=True)\n",
            "  )\n",
            ")\n",
            "\n",
            "\n"
          ]
        }
      ]
    }
  ]
}